{
 "cells": [
  {
   "cell_type": "code",
   "execution_count": 60,
   "metadata": {},
   "outputs": [],
   "source": [
    "# librerias\n",
    "import pandas as pd\n",
    "import numpy as np\n",
    "import matplotlib.pyplot as plt\n",
    "import statsmodels.formula.api as smf"
   ]
  },
  {
   "cell_type": "code",
   "execution_count": 123,
   "metadata": {},
   "outputs": [
    {
     "data": {
      "text/html": [
       "<div>\n",
       "<style scoped>\n",
       "    .dataframe tbody tr th:only-of-type {\n",
       "        vertical-align: middle;\n",
       "    }\n",
       "\n",
       "    .dataframe tbody tr th {\n",
       "        vertical-align: top;\n",
       "    }\n",
       "\n",
       "    .dataframe thead th {\n",
       "        text-align: right;\n",
       "    }\n",
       "</style>\n",
       "<table border=\"1\" class=\"dataframe\">\n",
       "  <thead>\n",
       "    <tr style=\"text-align: right;\">\n",
       "      <th></th>\n",
       "      <th>departamento</th>\n",
       "      <th>municipio</th>\n",
       "      <th>poblacion</th>\n",
       "      <th>Fallecidos</th>\n",
       "      <th>Sintomas</th>\n",
       "      <th>Muestras</th>\n",
       "      <th>Vacunados</th>\n",
       "    </tr>\n",
       "  </thead>\n",
       "  <tbody>\n",
       "    <tr>\n",
       "      <th>0</th>\n",
       "      <td>IZABAL</td>\n",
       "      <td>PUERTO BARRIOS</td>\n",
       "      <td>109753</td>\n",
       "      <td>163</td>\n",
       "      <td>2374</td>\n",
       "      <td>4207</td>\n",
       "      <td>4207</td>\n",
       "    </tr>\n",
       "    <tr>\n",
       "      <th>1</th>\n",
       "      <td>IZABAL</td>\n",
       "      <td>LIVINGSTON</td>\n",
       "      <td>79360</td>\n",
       "      <td>15</td>\n",
       "      <td>234</td>\n",
       "      <td>726</td>\n",
       "      <td>726</td>\n",
       "    </tr>\n",
       "    <tr>\n",
       "      <th>2</th>\n",
       "      <td>IZABAL</td>\n",
       "      <td>EL ESTOR</td>\n",
       "      <td>81385</td>\n",
       "      <td>11</td>\n",
       "      <td>135</td>\n",
       "      <td>559</td>\n",
       "      <td>559</td>\n",
       "    </tr>\n",
       "    <tr>\n",
       "      <th>3</th>\n",
       "      <td>IZABAL</td>\n",
       "      <td>MORALES</td>\n",
       "      <td>106156</td>\n",
       "      <td>56</td>\n",
       "      <td>637</td>\n",
       "      <td>1652</td>\n",
       "      <td>1652</td>\n",
       "    </tr>\n",
       "    <tr>\n",
       "      <th>4</th>\n",
       "      <td>IZABAL</td>\n",
       "      <td>LOS AMATES</td>\n",
       "      <td>63841</td>\n",
       "      <td>8</td>\n",
       "      <td>320</td>\n",
       "      <td>777</td>\n",
       "      <td>777</td>\n",
       "    </tr>\n",
       "  </tbody>\n",
       "</table>\n",
       "</div>"
      ],
      "text/plain": [
       "  departamento       municipio  poblacion  Fallecidos  Sintomas  Muestras  \\\n",
       "0       IZABAL  PUERTO BARRIOS     109753         163      2374      4207   \n",
       "1       IZABAL      LIVINGSTON      79360          15       234       726   \n",
       "2       IZABAL        EL ESTOR      81385          11       135       559   \n",
       "3       IZABAL         MORALES     106156          56       637      1652   \n",
       "4       IZABAL      LOS AMATES      63841           8       320       777   \n",
       "\n",
       "   Vacunados  \n",
       "0       4207  \n",
       "1        726  \n",
       "2        559  \n",
       "3       1652  \n",
       "4        777  "
      ]
     },
     "execution_count": 123,
     "metadata": {},
     "output_type": "execute_result"
    }
   ],
   "source": [
    "# importar los datos\n",
    "path = \"/home/luii/Documents/Modelacionysimulacion\"\n",
    "\n",
    "file = \"final/DATASOLO.csv\"\n",
    "data = pd.read_csv(path + \"/\" + file)\n",
    "\n",
    "file2 = \"final/DATATOTO.csv\"\n",
    "data2 = pd.read_csv(path + \"/\" + file2)\n",
    "\n",
    "file3 = \"final/DATAJALA.csv\"\n",
    "data3 = pd.read_csv(path + \"/\" + file3)\n",
    "\n",
    "file4 = \"final/DATABAJA.csv\"\n",
    "data4 = pd.read_csv(path + \"/\" + file4)\n",
    "\n",
    "file5 = \"final/DATAIZAB.csv\"\n",
    "data5 = pd.read_csv(path + \"/\" + file5)\n",
    "\n",
    "data5"
   ]
  },
  {
   "cell_type": "markdown",
   "metadata": {},
   "source": [
    "# ------Sololá-----"
   ]
  },
  {
   "cell_type": "markdown",
   "metadata": {},
   "source": [
    "## poblacion y fallecidos sololá"
   ]
  },
  {
   "cell_type": "code",
   "execution_count": 76,
   "metadata": {},
   "outputs": [
    {
     "name": "stdout",
     "output_type": "stream",
     "text": [
      "El modelo tiene una presicion de: 55.13%\n"
     ]
    }
   ],
   "source": [
    "# población-fallecidos\n",
    "mlpoblafalle = smf.ols(formula = \"poblacion~Fallecidos\", data=data).fit()\n",
    "mlpoblafalle.params\n",
    "# validacion poblacion-fallecidos\n",
    "validapoblafalle = mlpoblafalle.rsquared_adj\n",
    "print(\"El modelo tiene una presicion de: \" + str(round(validapoblafalle*100,2)) + \"%\")"
   ]
  },
  {
   "cell_type": "markdown",
   "metadata": {},
   "source": [
    "## sintomas y fallecidos sololá"
   ]
  },
  {
   "cell_type": "code",
   "execution_count": 82,
   "metadata": {},
   "outputs": [
    {
     "name": "stdout",
     "output_type": "stream",
     "text": [
      "El modelo tiene una presicion de: 94.71%\n"
     ]
    }
   ],
   "source": [
    "# sintomas-fallecidos\n",
    "mlsintofalle = smf.ols(formula = \"Sintomas~Fallecidos\", data=data).fit()\n",
    "mlsintofalle.params\n",
    "# validacion sintomas-fallecidos\n",
    "validasintofalle = mlsintofalle.rsquared_adj\n",
    "print(\"El modelo tiene una presicion de: \" + str(round(validasintofalle*100,2)) + \"%\")"
   ]
  },
  {
   "cell_type": "markdown",
   "metadata": {},
   "source": [
    "## muestras y fallecidos sololá"
   ]
  },
  {
   "cell_type": "code",
   "execution_count": 79,
   "metadata": {},
   "outputs": [
    {
     "name": "stdout",
     "output_type": "stream",
     "text": [
      "El modelo tiene una presicion de: 95.54%\n"
     ]
    }
   ],
   "source": [
    "# muestras-fallecidos\n",
    "mlmuesfalle = smf.ols(formula = \"Muestras~Fallecidos\", data=data).fit()\n",
    "mlmuesfalle.params\n",
    "# validacion muestras-fallecidos\n",
    "validamuesfalle = mlmuesfalle.rsquared_adj\n",
    "print(\"El modelo tiene una presicion de: \" + str(round(validamuesfalle*100,2)) + \"%\")"
   ]
  },
  {
   "cell_type": "markdown",
   "metadata": {},
   "source": [
    "## vacunados y fallecidos sololá"
   ]
  },
  {
   "cell_type": "code",
   "execution_count": 78,
   "metadata": {},
   "outputs": [
    {
     "name": "stdout",
     "output_type": "stream",
     "text": [
      "El modelo tiene una presicion de: 82.39%\n"
     ]
    }
   ],
   "source": [
    "# vacunados-fallecidos\n",
    "mlvacufalle = smf.ols(formula = \"Vacunados~Fallecidos\", data=data).fit()\n",
    "mlvacufalle.params\n",
    "# validacion muestras-fallecidos\n",
    "validavacufalle = mlvacufalle.rsquared_adj\n",
    "print(\"El modelo tiene una presicion de: \" + str(round(validavacufalle*100,2)) + \"%\")"
   ]
  },
  {
   "cell_type": "markdown",
   "metadata": {},
   "source": [
    "# -----Totonicapán-----"
   ]
  },
  {
   "cell_type": "markdown",
   "metadata": {},
   "source": [
    "## poblacion y fallecidos totonicapán"
   ]
  },
  {
   "cell_type": "code",
   "execution_count": 80,
   "metadata": {},
   "outputs": [
    {
     "name": "stdout",
     "output_type": "stream",
     "text": [
      "El modelo tiene una presicion de: 29.9%\n"
     ]
    }
   ],
   "source": [
    "# población-fallecidos\n",
    "mlpoblafalle2 = smf.ols(formula = \"poblacion~Fallecidos\", data=data2).fit()\n",
    "mlpoblafalle2.params\n",
    "# validacion poblacion-fallecidos\n",
    "validapoblafalle2 = mlpoblafalle2.rsquared_adj\n",
    "print(\"El modelo tiene una presicion de: \" + str(round(validapoblafalle2*100,2)) + \"%\")"
   ]
  },
  {
   "cell_type": "markdown",
   "metadata": {},
   "source": [
    "## sintomas y fallecidos totonicapán"
   ]
  },
  {
   "cell_type": "code",
   "execution_count": 83,
   "metadata": {},
   "outputs": [
    {
     "name": "stdout",
     "output_type": "stream",
     "text": [
      "El modelo tiene una presicion de: 95.9%\n"
     ]
    }
   ],
   "source": [
    "# sintomas-fallecidos\n",
    "mlsintofalle2 = smf.ols(formula = \"Sintomas~Fallecidos\", data=data2).fit()\n",
    "mlsintofalle2.params\n",
    "# validacion sintomas-fallecidos\n",
    "validasintofalle2 = mlsintofalle2.rsquared_adj\n",
    "print(\"El modelo tiene una presicion de: \" + str(round(validasintofalle2*100,2)) + \"%\")"
   ]
  },
  {
   "cell_type": "markdown",
   "metadata": {},
   "source": [
    "## muestras y fallecidos totonicapán"
   ]
  },
  {
   "cell_type": "code",
   "execution_count": 84,
   "metadata": {},
   "outputs": [
    {
     "name": "stdout",
     "output_type": "stream",
     "text": [
      "El modelo tiene una presicion de: 98.21%\n"
     ]
    }
   ],
   "source": [
    "# muestras-fallecidos\n",
    "mlmuesfalle2 = smf.ols(formula = \"Muestras~Fallecidos\", data=data2).fit()\n",
    "mlmuesfalle2.params\n",
    "# validacion muestras-fallecidos\n",
    "validamuesfalle2 = mlmuesfalle2.rsquared_adj\n",
    "print(\"El modelo tiene una presicion de: \" + str(round(validamuesfalle2*100,2)) + \"%\")"
   ]
  },
  {
   "cell_type": "markdown",
   "metadata": {},
   "source": [
    "## vacunados y fallecidos totonicapán"
   ]
  },
  {
   "cell_type": "code",
   "execution_count": 85,
   "metadata": {},
   "outputs": [
    {
     "name": "stdout",
     "output_type": "stream",
     "text": [
      "El modelo tiene una presicion de: 97.91%\n"
     ]
    }
   ],
   "source": [
    "# vacunados-fallecidos\n",
    "mlvacufalle2 = smf.ols(formula = \"Vacunados~Fallecidos\", data=data2).fit()\n",
    "mlvacufalle2.params\n",
    "# validacion muestras-fallecidos\n",
    "validavacufalle2 = mlvacufalle2.rsquared_adj\n",
    "print(\"El modelo tiene una presicion de: \" + str(round(validavacufalle2*100,2)) + \"%\")"
   ]
  },
  {
   "cell_type": "markdown",
   "metadata": {},
   "source": [
    "# -----Jalapa-----"
   ]
  },
  {
   "cell_type": "markdown",
   "metadata": {},
   "source": [
    "## poblacion y fallecidos jalapa"
   ]
  },
  {
   "cell_type": "code",
   "execution_count": 92,
   "metadata": {},
   "outputs": [
    {
     "name": "stdout",
     "output_type": "stream",
     "text": [
      "El modelo tiene una presicion de: 88.52%\n"
     ]
    }
   ],
   "source": [
    "# población-fallecidos\n",
    "mlpoblafalle3 = smf.ols(formula = \"poblacion~Fallecidos\", data=data3).fit()\n",
    "mlpoblafalle3.params\n",
    "# validacion poblacion-fallecidos\n",
    "validapoblafalle3 = mlpoblafalle3.rsquared_adj\n",
    "print(\"El modelo tiene una presicion de: \" + str(round(validapoblafalle3*100,2)) + \"%\")"
   ]
  },
  {
   "cell_type": "markdown",
   "metadata": {},
   "source": [
    "## sintomas y fallecidos jalapa"
   ]
  },
  {
   "cell_type": "code",
   "execution_count": 93,
   "metadata": {},
   "outputs": [
    {
     "name": "stdout",
     "output_type": "stream",
     "text": [
      "El modelo tiene una presicion de: 92.21%\n"
     ]
    }
   ],
   "source": [
    "# sintomas-fallecidos\n",
    "mlsintofalle3 = smf.ols(formula = \"Sintomas~Fallecidos\", data=data3).fit()\n",
    "mlsintofalle3.params\n",
    "# validacion sintomas-fallecidos\n",
    "validasintofalle3 = mlsintofalle3.rsquared_adj\n",
    "print(\"El modelo tiene una presicion de: \" + str(round(validasintofalle3*100,2)) + \"%\")"
   ]
  },
  {
   "cell_type": "markdown",
   "metadata": {},
   "source": [
    "## muestras y fallecidos jalapa"
   ]
  },
  {
   "cell_type": "code",
   "execution_count": 94,
   "metadata": {},
   "outputs": [
    {
     "name": "stdout",
     "output_type": "stream",
     "text": [
      "El modelo tiene una presicion de: 99.05%\n"
     ]
    }
   ],
   "source": [
    "# muestras-fallecidos\n",
    "mlmuesfalle3 = smf.ols(formula = \"Muestras~Fallecidos\", data=data3).fit()\n",
    "mlmuesfalle3.params\n",
    "# validacion muestras-fallecidos\n",
    "validamuesfalle3 = mlmuesfalle3.rsquared_adj\n",
    "print(\"El modelo tiene una presicion de: \" + str(round(validamuesfalle3*100,2)) + \"%\")"
   ]
  },
  {
   "cell_type": "markdown",
   "metadata": {},
   "source": [
    "## vacunados y fallecidos jalapa"
   ]
  },
  {
   "cell_type": "code",
   "execution_count": 95,
   "metadata": {},
   "outputs": [
    {
     "name": "stdout",
     "output_type": "stream",
     "text": [
      "El modelo tiene una presicion de: 96.7%\n"
     ]
    }
   ],
   "source": [
    "# vacunados-fallecidos\n",
    "mlvacufalle3 = smf.ols(formula = \"Vacunados~Fallecidos\", data=data3).fit()\n",
    "mlvacufalle3.params\n",
    "# validacion muestras-fallecidos\n",
    "validavacufalle3 = mlvacufalle3.rsquared_adj\n",
    "print(\"El modelo tiene una presicion de: \" + str(round(validavacufalle3*100,2)) + \"%\")"
   ]
  },
  {
   "cell_type": "markdown",
   "metadata": {},
   "source": [
    "# -----Baja Verapaz-----"
   ]
  },
  {
   "cell_type": "markdown",
   "metadata": {},
   "source": [
    "## poblacion y fallecidos Baja Verapaz"
   ]
  },
  {
   "cell_type": "code",
   "execution_count": 126,
   "metadata": {},
   "outputs": [
    {
     "name": "stdout",
     "output_type": "stream",
     "text": [
      "El modelo tiene una presicion de: 12.86%\n"
     ]
    }
   ],
   "source": [
    "# población-fallecidos\n",
    "mlpoblafalle4 = smf.ols(formula = \"poblacion~Fallecidos\", data=data4).fit()\n",
    "mlpoblafalle4.params\n",
    "# validacion poblacion-fallecidos\n",
    "validapoblafalle4 = mlpoblafalle4.rsquared_adj\n",
    "print(\"El modelo tiene una presicion de: \" + str(round(validapoblafalle4*100,2)) + \"%\")"
   ]
  },
  {
   "cell_type": "markdown",
   "metadata": {},
   "source": [
    "## sintomas y fallecidos Baja Verapaz"
   ]
  },
  {
   "cell_type": "code",
   "execution_count": 115,
   "metadata": {},
   "outputs": [
    {
     "name": "stdout",
     "output_type": "stream",
     "text": [
      "El modelo tiene una presicion de: 88.95%\n"
     ]
    }
   ],
   "source": [
    "# sintomas-fallecidos\n",
    "mlsintofalle4 = smf.ols(formula = \"Sintomas~Fallecidos\", data=data4).fit()\n",
    "mlsintofalle4.params\n",
    "# validacion sintomas-fallecidos\n",
    "validasintofalle4 = mlsintofalle4.rsquared_adj\n",
    "print(\"El modelo tiene una presicion de: \" + str(round(validasintofalle4*100,2)) + \"%\")"
   ]
  },
  {
   "cell_type": "markdown",
   "metadata": {},
   "source": [
    "## muestras y fallecidos Baja Verapaz"
   ]
  },
  {
   "cell_type": "code",
   "execution_count": 116,
   "metadata": {},
   "outputs": [
    {
     "name": "stdout",
     "output_type": "stream",
     "text": [
      "El modelo tiene una presicion de: 90.73%\n"
     ]
    }
   ],
   "source": [
    "# muestras-fallecidos\n",
    "mlmuesfalle4 = smf.ols(formula = \"Muestras~Fallecidos\", data=data4).fit()\n",
    "mlmuesfalle4.params\n",
    "# validacion muestras-fallecidos\n",
    "validamuesfalle4 = mlmuesfalle4.rsquared_adj\n",
    "print(\"El modelo tiene una presicion de: \" + str(round(validamuesfalle4*100,2)) + \"%\")"
   ]
  },
  {
   "cell_type": "markdown",
   "metadata": {},
   "source": [
    "## vacunados y fallecidos Baja Verapaz"
   ]
  },
  {
   "cell_type": "code",
   "execution_count": 117,
   "metadata": {},
   "outputs": [
    {
     "name": "stdout",
     "output_type": "stream",
     "text": [
      "El modelo tiene una presicion de: 64.06%\n"
     ]
    }
   ],
   "source": [
    "# vacunados-fallecidos\n",
    "mlvacufalle4 = smf.ols(formula = \"Vacunados~Fallecidos\", data=data4).fit()\n",
    "mlvacufalle4.params\n",
    "# validacion muestras-fallecidos\n",
    "validavacufalle4 = mlvacufalle4.rsquared_adj\n",
    "print(\"El modelo tiene una presicion de: \" + str(round(validavacufalle4*100,2)) + \"%\")"
   ]
  },
  {
   "cell_type": "markdown",
   "metadata": {},
   "source": [
    "# -----Izabal-----"
   ]
  },
  {
   "cell_type": "markdown",
   "metadata": {},
   "source": [
    "## poblacion y fallecidos Izabal"
   ]
  },
  {
   "cell_type": "code",
   "execution_count": 120,
   "metadata": {},
   "outputs": [
    {
     "name": "stdout",
     "output_type": "stream",
     "text": [
      "El modelo tiene una presicion de: 54.46%\n"
     ]
    }
   ],
   "source": [
    "# población-fallecidos\n",
    "mlpoblafalle5 = smf.ols(formula = \"poblacion~Fallecidos\", data=data5).fit()\n",
    "mlpoblafalle5.params\n",
    "# validacion poblacion-fallecidos\n",
    "validapoblafalle5 = mlpoblafalle5.rsquared_adj\n",
    "print(\"El modelo tiene una presicion de: \" + str(round(validapoblafalle5*100,2)) + \"%\")"
   ]
  },
  {
   "cell_type": "markdown",
   "metadata": {},
   "source": [
    "## sintomas y fallecidos Izabal"
   ]
  },
  {
   "cell_type": "code",
   "execution_count": 121,
   "metadata": {},
   "outputs": [
    {
     "name": "stdout",
     "output_type": "stream",
     "text": [
      "El modelo tiene una presicion de: 97.35%\n"
     ]
    }
   ],
   "source": [
    "# sintomas-fallecidos\n",
    "mlsintofalle5 = smf.ols(formula = \"Sintomas~Fallecidos\", data=data5).fit()\n",
    "mlsintofalle5.params\n",
    "# validacion sintomas-fallecidos\n",
    "validasintofalle5 = mlsintofalle5.rsquared_adj\n",
    "print(\"El modelo tiene una presicion de: \" + str(round(validasintofalle5*100,2)) + \"%\")"
   ]
  },
  {
   "cell_type": "markdown",
   "metadata": {},
   "source": [
    "## muestras y fallecidos Izabal"
   ]
  },
  {
   "cell_type": "code",
   "execution_count": 124,
   "metadata": {},
   "outputs": [
    {
     "name": "stdout",
     "output_type": "stream",
     "text": [
      "El modelo tiene una presicion de: 99.3%\n"
     ]
    }
   ],
   "source": [
    "# muestras-fallecidos\n",
    "mlmuesfalle5 = smf.ols(formula = \"Muestras~Fallecidos\", data=data5).fit()\n",
    "mlmuesfalle5.params\n",
    "# validacion muestras-fallecidos\n",
    "validamuesfalle5 = mlmuesfalle5.rsquared_adj\n",
    "print(\"El modelo tiene una presicion de: \" + str(round(validamuesfalle5*100,2)) + \"%\")"
   ]
  },
  {
   "cell_type": "markdown",
   "metadata": {},
   "source": [
    "## vacunados y fallecidos Izabal"
   ]
  },
  {
   "cell_type": "code",
   "execution_count": 125,
   "metadata": {},
   "outputs": [
    {
     "name": "stdout",
     "output_type": "stream",
     "text": [
      "El modelo tiene una presicion de: 99.3%\n"
     ]
    }
   ],
   "source": [
    "# vacunados-fallecidos\n",
    "mlvacufalle5 = smf.ols(formula = \"Vacunados~Fallecidos\", data=data5).fit()\n",
    "mlvacufalle5.params\n",
    "# validacion muestras-fallecidos\n",
    "validavacufalle5 = mlvacufalle5.rsquared_adj\n",
    "print(\"El modelo tiene una presicion de: \" + str(round(validavacufalle5*100,2)) + \"%\")"
   ]
  }
 ],
 "metadata": {
  "kernelspec": {
   "display_name": "Python 3",
   "language": "python",
   "name": "python3"
  },
  "language_info": {
   "codemirror_mode": {
    "name": "ipython",
    "version": 3
   },
   "file_extension": ".py",
   "mimetype": "text/x-python",
   "name": "python",
   "nbconvert_exporter": "python",
   "pygments_lexer": "ipython3",
   "version": "3.8.5"
  }
 },
 "nbformat": 4,
 "nbformat_minor": 4
}
