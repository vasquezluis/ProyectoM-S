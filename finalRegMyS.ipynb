{
 "cells": [
  {
   "cell_type": "code",
   "execution_count": 110,
   "metadata": {},
   "outputs": [],
   "source": [
    "# librerias\n",
    "import pandas as pd\n",
    "import numpy as np\n",
    "import matplotlib.pyplot as plt\n",
    "import statsmodels.formula.api as smf"
   ]
  },
  {
   "cell_type": "code",
   "execution_count": 111,
   "metadata": {},
   "outputs": [
    {
     "data": {
      "text/html": [
       "<div>\n",
       "<style scoped>\n",
       "    .dataframe tbody tr th:only-of-type {\n",
       "        vertical-align: middle;\n",
       "    }\n",
       "\n",
       "    .dataframe tbody tr th {\n",
       "        vertical-align: top;\n",
       "    }\n",
       "\n",
       "    .dataframe thead th {\n",
       "        text-align: right;\n",
       "    }\n",
       "</style>\n",
       "<table border=\"1\" class=\"dataframe\">\n",
       "  <thead>\n",
       "    <tr style=\"text-align: right;\">\n",
       "      <th></th>\n",
       "      <th>departamento</th>\n",
       "      <th>municipio</th>\n",
       "      <th>poblacion</th>\n",
       "      <th>Fallecidos</th>\n",
       "      <th>Sintomas</th>\n",
       "      <th>Muestras</th>\n",
       "      <th>Vacunados</th>\n",
       "    </tr>\n",
       "  </thead>\n",
       "  <tbody>\n",
       "    <tr>\n",
       "      <th>0</th>\n",
       "      <td>PETEN</td>\n",
       "      <td>DOLORES</td>\n",
       "      <td>29659</td>\n",
       "      <td>9</td>\n",
       "      <td>120</td>\n",
       "      <td>203</td>\n",
       "      <td>406</td>\n",
       "    </tr>\n",
       "    <tr>\n",
       "      <th>1</th>\n",
       "      <td>PETEN</td>\n",
       "      <td>EL CHAL</td>\n",
       "      <td>15225</td>\n",
       "      <td>5</td>\n",
       "      <td>58</td>\n",
       "      <td>79</td>\n",
       "      <td>174</td>\n",
       "    </tr>\n",
       "    <tr>\n",
       "      <th>2</th>\n",
       "      <td>PETEN</td>\n",
       "      <td>FLORES</td>\n",
       "      <td>43067</td>\n",
       "      <td>16</td>\n",
       "      <td>665</td>\n",
       "      <td>973</td>\n",
       "      <td>1070</td>\n",
       "    </tr>\n",
       "    <tr>\n",
       "      <th>3</th>\n",
       "      <td>PETEN</td>\n",
       "      <td>LA LIBERTAD</td>\n",
       "      <td>83375</td>\n",
       "      <td>22</td>\n",
       "      <td>339</td>\n",
       "      <td>464</td>\n",
       "      <td>711</td>\n",
       "    </tr>\n",
       "    <tr>\n",
       "      <th>4</th>\n",
       "      <td>PETEN</td>\n",
       "      <td>LAS CRUCES</td>\n",
       "      <td>37915</td>\n",
       "      <td>9</td>\n",
       "      <td>155</td>\n",
       "      <td>184</td>\n",
       "      <td>484</td>\n",
       "    </tr>\n",
       "    <tr>\n",
       "      <th>5</th>\n",
       "      <td>PETEN</td>\n",
       "      <td>MELCHOR DE MENCOS</td>\n",
       "      <td>30017</td>\n",
       "      <td>7</td>\n",
       "      <td>174</td>\n",
       "      <td>204</td>\n",
       "      <td>297</td>\n",
       "    </tr>\n",
       "    <tr>\n",
       "      <th>6</th>\n",
       "      <td>PETEN</td>\n",
       "      <td>POPTUN</td>\n",
       "      <td>66883</td>\n",
       "      <td>18</td>\n",
       "      <td>391</td>\n",
       "      <td>468</td>\n",
       "      <td>1538</td>\n",
       "    </tr>\n",
       "    <tr>\n",
       "      <th>7</th>\n",
       "      <td>PETEN</td>\n",
       "      <td>SAN ANDRES</td>\n",
       "      <td>34823</td>\n",
       "      <td>3</td>\n",
       "      <td>158</td>\n",
       "      <td>238</td>\n",
       "      <td>375</td>\n",
       "    </tr>\n",
       "    <tr>\n",
       "      <th>8</th>\n",
       "      <td>PETEN</td>\n",
       "      <td>SAN BENITO</td>\n",
       "      <td>52439</td>\n",
       "      <td>54</td>\n",
       "      <td>1002</td>\n",
       "      <td>1462</td>\n",
       "      <td>1517</td>\n",
       "    </tr>\n",
       "    <tr>\n",
       "      <th>9</th>\n",
       "      <td>PETEN</td>\n",
       "      <td>SAN FRANCISCO</td>\n",
       "      <td>16339</td>\n",
       "      <td>1</td>\n",
       "      <td>84</td>\n",
       "      <td>118</td>\n",
       "      <td>273</td>\n",
       "    </tr>\n",
       "    <tr>\n",
       "      <th>10</th>\n",
       "      <td>PETEN</td>\n",
       "      <td>SAN JOSE</td>\n",
       "      <td>7103</td>\n",
       "      <td>5</td>\n",
       "      <td>62</td>\n",
       "      <td>94</td>\n",
       "      <td>155</td>\n",
       "    </tr>\n",
       "    <tr>\n",
       "      <th>11</th>\n",
       "      <td>PETEN</td>\n",
       "      <td>SAN LUIS</td>\n",
       "      <td>76128</td>\n",
       "      <td>18</td>\n",
       "      <td>121</td>\n",
       "      <td>165</td>\n",
       "      <td>598</td>\n",
       "    </tr>\n",
       "    <tr>\n",
       "      <th>12</th>\n",
       "      <td>PETEN</td>\n",
       "      <td>SANTA ANA</td>\n",
       "      <td>23499</td>\n",
       "      <td>7</td>\n",
       "      <td>105</td>\n",
       "      <td>145</td>\n",
       "      <td>279</td>\n",
       "    </tr>\n",
       "    <tr>\n",
       "      <th>13</th>\n",
       "      <td>PETEN</td>\n",
       "      <td>SAYAXCHE</td>\n",
       "      <td>97003</td>\n",
       "      <td>18</td>\n",
       "      <td>267</td>\n",
       "      <td>385</td>\n",
       "      <td>1482</td>\n",
       "    </tr>\n",
       "  </tbody>\n",
       "</table>\n",
       "</div>"
      ],
      "text/plain": [
       "   departamento          municipio  poblacion  Fallecidos  Sintomas  Muestras  \\\n",
       "0         PETEN            DOLORES      29659           9       120       203   \n",
       "1         PETEN            EL CHAL      15225           5        58        79   \n",
       "2         PETEN             FLORES      43067          16       665       973   \n",
       "3         PETEN        LA LIBERTAD      83375          22       339       464   \n",
       "4         PETEN         LAS CRUCES      37915           9       155       184   \n",
       "5         PETEN  MELCHOR DE MENCOS      30017           7       174       204   \n",
       "6         PETEN             POPTUN      66883          18       391       468   \n",
       "7         PETEN         SAN ANDRES      34823           3       158       238   \n",
       "8         PETEN         SAN BENITO      52439          54      1002      1462   \n",
       "9         PETEN      SAN FRANCISCO      16339           1        84       118   \n",
       "10        PETEN           SAN JOSE       7103           5        62        94   \n",
       "11        PETEN           SAN LUIS      76128          18       121       165   \n",
       "12        PETEN          SANTA ANA      23499           7       105       145   \n",
       "13        PETEN           SAYAXCHE      97003          18       267       385   \n",
       "\n",
       "    Vacunados  \n",
       "0         406  \n",
       "1         174  \n",
       "2        1070  \n",
       "3         711  \n",
       "4         484  \n",
       "5         297  \n",
       "6        1538  \n",
       "7         375  \n",
       "8        1517  \n",
       "9         273  \n",
       "10        155  \n",
       "11        598  \n",
       "12        279  \n",
       "13       1482  "
      ]
     },
     "execution_count": 111,
     "metadata": {},
     "output_type": "execute_result"
    }
   ],
   "source": [
    "# importar los datos\n",
    "path = \"/home/luii/Documents/Modelacionysimulacion\"\n",
    "\n",
    "file = \"final/DATASOLO.csv\"\n",
    "data = pd.read_csv(path + \"/\" + file)\n",
    "\n",
    "file2 = \"final/DATATOTO.csv\"\n",
    "data2 = pd.read_csv(path + \"/\" + file2)\n",
    "\n",
    "file3 = \"final/DATAJALA.csv\"\n",
    "data3 = pd.read_csv(path + \"/\" + file3)\n",
    "\n",
    "file4 = \"final/DATABAJA.csv\"\n",
    "data4 = pd.read_csv(path + \"/\" + file4)\n",
    "\n",
    "file5 = \"final/DATAIZAB.csv\"\n",
    "data5 = pd.read_csv(path + \"/\" + file5)\n",
    "\n",
    "file6 = \"final/DATAQUE.csv\"\n",
    "data6 = pd.read_csv(path + \"/\" + file6)\n",
    "\n",
    "file7 = \"final/DATAALTVE.csv\"\n",
    "data7 = pd.read_csv(path + \"/\" + file7)\n",
    "\n",
    "file8 = \"final/DATAMARC.csv\"\n",
    "data8 = pd.read_csv(path + \"/\" + file8)\n",
    "\n",
    "file9 = \"final/DATAGUA.csv\"\n",
    "data9 = pd.read_csv(path + \"/\" + file9)\n",
    "\n",
    "file10 = \"final/DATAPETE.csv\"\n",
    "data10 = pd.read_csv(path + \"/\" + file10)\n",
    "\n",
    "data10"
   ]
  },
  {
   "cell_type": "markdown",
   "metadata": {},
   "source": [
    "# ------Sololá-----"
   ]
  },
  {
   "cell_type": "markdown",
   "metadata": {},
   "source": [
    "## poblacion y fallecidos sololá"
   ]
  },
  {
   "cell_type": "code",
   "execution_count": 112,
   "metadata": {},
   "outputs": [
    {
     "name": "stdout",
     "output_type": "stream",
     "text": [
      "El modelo tiene una presicion de: 55.13%\n"
     ]
    }
   ],
   "source": [
    "# población-fallecidos\n",
    "mlpoblafalle = smf.ols(formula = \"poblacion~Fallecidos\", data=data).fit()\n",
    "# validacion poblacion-fallecidos\n",
    "validapoblafalle = mlpoblafalle.rsquared_adj\n",
    "print(\"El modelo tiene una presicion de: \" + str(round(validapoblafalle*100,2)) + \"%\")"
   ]
  },
  {
   "cell_type": "code",
   "execution_count": 113,
   "metadata": {},
   "outputs": [
    {
     "data": {
      "text/plain": [
       "Intercept     9441.528415\n",
       "Fallecidos    2132.421927\n",
       "dtype: float64"
      ]
     },
     "execution_count": 113,
     "metadata": {},
     "output_type": "execute_result"
    }
   ],
   "source": [
    "mlpoblafalle.params"
   ]
  },
  {
   "cell_type": "code",
   "execution_count": 114,
   "metadata": {},
   "outputs": [
    {
     "name": "stdout",
     "output_type": "stream",
     "text": [
      "El porcentaje de error de la simulacion es 81.19%\n"
     ]
    }
   ],
   "source": [
    "data[\"pred_poblafalle\"] = 9441.528415 + 2132.421927 * data[\"Fallecidos\"]\n",
    "\n",
    "# calcular el error en la simulacion - certeza del modelo\n",
    "# validacion de simulacion\n",
    "data[\"sumacuaddifpoblafalle\"] = (data[\"poblacion\"] - data[\"pred_poblafalle\"]) ** 2\n",
    "\n",
    "sumCuadErrPoblaFalle = sum(data[\"sumacuaddifpoblafalle\"])\n",
    "\n",
    "ErrorEstandarResidual1 = np.sqrt(sumCuadErrPoblaFalle/(len(data) - 2 - 1))\n",
    "\n",
    "promedio_pobla = np.mean(data[\"poblacion\"])\n",
    "\n",
    "errsimulapoblafalle = ErrorEstandarResidual1 / promedio_pobla\n",
    "\n",
    "print(\"El porcentaje de error de la simulacion es \" + str(round(errsimulapoblafalle*100, 2)) + \"%\")"
   ]
  },
  {
   "cell_type": "markdown",
   "metadata": {},
   "source": [
    "## sintomas y fallecidos sololá"
   ]
  },
  {
   "cell_type": "code",
   "execution_count": 115,
   "metadata": {},
   "outputs": [
    {
     "name": "stdout",
     "output_type": "stream",
     "text": [
      "El modelo tiene una presicion de: 94.71%\n"
     ]
    }
   ],
   "source": [
    "# sintomas-fallecidos\n",
    "mlsintofalle = smf.ols(formula = \"Sintomas~Fallecidos\", data=data).fit()\n",
    "\n",
    "# validacion sintomas-fallecidos\n",
    "validasintofalle = mlsintofalle.rsquared_adj\n",
    "print(\"El modelo tiene una presicion de: \" + str(round(validasintofalle*100,2)) + \"%\")"
   ]
  },
  {
   "cell_type": "code",
   "execution_count": 116,
   "metadata": {},
   "outputs": [
    {
     "data": {
      "text/plain": [
       "Intercept    -11.035450\n",
       "Fallecidos    17.301286\n",
       "dtype: float64"
      ]
     },
     "execution_count": 116,
     "metadata": {},
     "output_type": "execute_result"
    }
   ],
   "source": [
    "mlsintofalle.params"
   ]
  },
  {
   "cell_type": "code",
   "execution_count": 117,
   "metadata": {},
   "outputs": [
    {
     "name": "stdout",
     "output_type": "stream",
     "text": [
      "El porcentaje de error de la simulacion es 38.73%\n"
     ]
    }
   ],
   "source": [
    "data[\"pred_sintfalle\"] = -11.035450 + 17.301286 * data[\"Fallecidos\"]\n",
    "\n",
    "# calcular el error en la simulacion - certeza del modelo\n",
    "# validacion de simulacion\n",
    "data[\"sumacuaddifsintfalle\"] = (data[\"Sintomas\"] - data[\"pred_sintfalle\"]) ** 2\n",
    "\n",
    "sumCuadErrSintFalle = sum(data[\"sumacuaddifsintfalle\"])\n",
    "\n",
    "ErrorEstandarResidual2 = np.sqrt(sumCuadErrSintFalle/(len(data) - 2 - 1))\n",
    "\n",
    "promedio_sint = np.mean(data[\"Sintomas\"])\n",
    "\n",
    "errsimulasintfalle = ErrorEstandarResidual2 / promedio_sint\n",
    "\n",
    "print(\"El porcentaje de error de la simulacion es \" + str(round(errsimulasintfalle*100, 2)) + \"%\")"
   ]
  },
  {
   "cell_type": "markdown",
   "metadata": {},
   "source": [
    "## muestras y fallecidos sololá"
   ]
  },
  {
   "cell_type": "code",
   "execution_count": 118,
   "metadata": {},
   "outputs": [
    {
     "name": "stdout",
     "output_type": "stream",
     "text": [
      "El modelo tiene una presicion de: 95.54%\n"
     ]
    }
   ],
   "source": [
    "# muestras-fallecidos\n",
    "mlmuesfalle = smf.ols(formula = \"Muestras~Fallecidos\", data=data).fit()\n",
    "\n",
    "# validacion muestras-fallecidos\n",
    "validamuesfalle = mlmuesfalle.rsquared_adj\n",
    "print(\"El modelo tiene una presicion de: \" + str(round(validamuesfalle*100,2)) + \"%\")"
   ]
  },
  {
   "cell_type": "code",
   "execution_count": 119,
   "metadata": {},
   "outputs": [
    {
     "data": {
      "text/plain": [
       "Intercept    -17.527477\n",
       "Fallecidos    25.148312\n",
       "dtype: float64"
      ]
     },
     "execution_count": 119,
     "metadata": {},
     "output_type": "execute_result"
    }
   ],
   "source": [
    "mlmuesfalle.params"
   ]
  },
  {
   "cell_type": "code",
   "execution_count": 120,
   "metadata": {},
   "outputs": [
    {
     "name": "stdout",
     "output_type": "stream",
     "text": [
      "El porcentaje de error de la simulacion es 35.73%\n"
     ]
    }
   ],
   "source": [
    "data[\"pred_muesfalle\"] = -17.527477 + 25.148312 * data[\"Fallecidos\"]\n",
    "\n",
    "# calcular el error en la simulacion - certeza del modelo\n",
    "# validacion de simulacion\n",
    "data[\"sumacuaddifmuesfalle\"] = (data[\"Muestras\"] - data[\"pred_muesfalle\"]) ** 2\n",
    "\n",
    "sumCuadErrMuesFalle = sum(data[\"sumacuaddifmuesfalle\"])\n",
    "\n",
    "ErrorEstandarResidual3 = np.sqrt(sumCuadErrMuesFalle/(len(data) - 2 - 1))\n",
    "\n",
    "promedio_mues = np.mean(data[\"Muestras\"])\n",
    "\n",
    "errsimulamuesfalle = ErrorEstandarResidual3 / promedio_mues\n",
    "\n",
    "print(\"El porcentaje de error de la simulacion es \" + str(round(errsimulamuesfalle*100, 2)) + \"%\")"
   ]
  },
  {
   "cell_type": "markdown",
   "metadata": {},
   "source": [
    "## vacunados y fallecidos sololá"
   ]
  },
  {
   "cell_type": "code",
   "execution_count": 121,
   "metadata": {},
   "outputs": [
    {
     "name": "stdout",
     "output_type": "stream",
     "text": [
      "El modelo tiene una presicion de: 82.39%\n"
     ]
    }
   ],
   "source": [
    "# vacunados-fallecidos\n",
    "mlvacufalle = smf.ols(formula = \"Vacunados~Fallecidos\", data=data).fit()\n",
    "\n",
    "# validacion muestras-fallecidos\n",
    "validavacufalle = mlvacufalle.rsquared_adj\n",
    "print(\"El modelo tiene una presicion de: \" + str(round(validavacufalle*100,2)) + \"%\")"
   ]
  },
  {
   "cell_type": "code",
   "execution_count": 122,
   "metadata": {},
   "outputs": [
    {
     "data": {
      "text/plain": [
       "Intercept     95.762883\n",
       "Fallecidos    36.700039\n",
       "dtype: float64"
      ]
     },
     "execution_count": 122,
     "metadata": {},
     "output_type": "execute_result"
    }
   ],
   "source": [
    "mlvacufalle.params"
   ]
  },
  {
   "cell_type": "code",
   "execution_count": 123,
   "metadata": {},
   "outputs": [
    {
     "name": "stdout",
     "output_type": "stream",
     "text": [
      "El porcentaje de error de la simulacion es 50.2%\n"
     ]
    }
   ],
   "source": [
    "data[\"pred_vacufalle\"] = 95.762883 + 36.700039 * data[\"Fallecidos\"]\n",
    "\n",
    "# calcular el error en la simulacion - certeza del modelo\n",
    "# validacion de simulacion\n",
    "data[\"sumacuaddifvacufalle\"] = (data[\"Vacunados\"] - data[\"pred_vacufalle\"]) ** 2\n",
    "\n",
    "sumCuadErrVacuFalle = sum(data[\"sumacuaddifvacufalle\"])\n",
    "\n",
    "ErrorEstandarResidual4 = np.sqrt(sumCuadErrVacuFalle/(len(data) - 2 - 1))\n",
    "\n",
    "promedio_vacu = np.mean(data[\"Vacunados\"])\n",
    "\n",
    "errsimulavacufalle = ErrorEstandarResidual4 / promedio_vacu\n",
    "\n",
    "print(\"El porcentaje de error de la simulacion es \" + str(round(errsimulavacufalle*100, 2)) + \"%\")"
   ]
  },
  {
   "cell_type": "markdown",
   "metadata": {},
   "source": [
    "# -----Totonicapán-----"
   ]
  },
  {
   "cell_type": "markdown",
   "metadata": {},
   "source": [
    "## poblacion y fallecidos totonicapán"
   ]
  },
  {
   "cell_type": "code",
   "execution_count": 124,
   "metadata": {},
   "outputs": [
    {
     "name": "stdout",
     "output_type": "stream",
     "text": [
      "El modelo tiene una presicion de: 29.9%\n"
     ]
    }
   ],
   "source": [
    "# población-fallecidos\n",
    "mlpoblafalle2 = smf.ols(formula = \"poblacion~Fallecidos\", data=data2).fit()\n",
    "mlpoblafalle2.params\n",
    "# validacion poblacion-fallecidos\n",
    "validapoblafalle2 = mlpoblafalle2.rsquared_adj\n",
    "print(\"El modelo tiene una presicion de: \" + str(round(validapoblafalle2*100,2)) + \"%\")"
   ]
  },
  {
   "cell_type": "markdown",
   "metadata": {},
   "source": [
    "## sintomas y fallecidos totonicapán"
   ]
  },
  {
   "cell_type": "code",
   "execution_count": 125,
   "metadata": {},
   "outputs": [
    {
     "name": "stdout",
     "output_type": "stream",
     "text": [
      "El modelo tiene una presicion de: 95.9%\n"
     ]
    }
   ],
   "source": [
    "# sintomas-fallecidos\n",
    "mlsintofalle2 = smf.ols(formula = \"Sintomas~Fallecidos\", data=data2).fit()\n",
    "mlsintofalle2.params\n",
    "# validacion sintomas-fallecidos\n",
    "validasintofalle2 = mlsintofalle2.rsquared_adj\n",
    "print(\"El modelo tiene una presicion de: \" + str(round(validasintofalle2*100,2)) + \"%\")"
   ]
  },
  {
   "cell_type": "markdown",
   "metadata": {},
   "source": [
    "## muestras y fallecidos totonicapán"
   ]
  },
  {
   "cell_type": "code",
   "execution_count": 126,
   "metadata": {},
   "outputs": [
    {
     "name": "stdout",
     "output_type": "stream",
     "text": [
      "El modelo tiene una presicion de: 98.21%\n"
     ]
    }
   ],
   "source": [
    "# muestras-fallecidos\n",
    "mlmuesfalle2 = smf.ols(formula = \"Muestras~Fallecidos\", data=data2).fit()\n",
    "mlmuesfalle2.params\n",
    "# validacion muestras-fallecidos\n",
    "validamuesfalle2 = mlmuesfalle2.rsquared_adj\n",
    "print(\"El modelo tiene una presicion de: \" + str(round(validamuesfalle2*100,2)) + \"%\")"
   ]
  },
  {
   "cell_type": "markdown",
   "metadata": {},
   "source": [
    "## vacunados y fallecidos totonicapán"
   ]
  },
  {
   "cell_type": "code",
   "execution_count": 127,
   "metadata": {},
   "outputs": [
    {
     "name": "stdout",
     "output_type": "stream",
     "text": [
      "El modelo tiene una presicion de: 97.91%\n"
     ]
    }
   ],
   "source": [
    "# vacunados-fallecidos\n",
    "mlvacufalle2 = smf.ols(formula = \"Vacunados~Fallecidos\", data=data2).fit()\n",
    "mlvacufalle2.params\n",
    "# validacion muestras-fallecidos\n",
    "validavacufalle2 = mlvacufalle2.rsquared_adj\n",
    "print(\"El modelo tiene una presicion de: \" + str(round(validavacufalle2*100,2)) + \"%\")"
   ]
  },
  {
   "cell_type": "markdown",
   "metadata": {},
   "source": [
    "# -----Jalapa-----"
   ]
  },
  {
   "cell_type": "markdown",
   "metadata": {},
   "source": [
    "## poblacion y fallecidos jalapa"
   ]
  },
  {
   "cell_type": "code",
   "execution_count": 128,
   "metadata": {},
   "outputs": [
    {
     "name": "stdout",
     "output_type": "stream",
     "text": [
      "El modelo tiene una presicion de: 88.52%\n"
     ]
    }
   ],
   "source": [
    "# población-fallecidos\n",
    "mlpoblafalle3 = smf.ols(formula = \"poblacion~Fallecidos\", data=data3).fit()\n",
    "mlpoblafalle3.params\n",
    "# validacion poblacion-fallecidos\n",
    "validapoblafalle3 = mlpoblafalle3.rsquared_adj\n",
    "print(\"El modelo tiene una presicion de: \" + str(round(validapoblafalle3*100,2)) + \"%\")"
   ]
  },
  {
   "cell_type": "markdown",
   "metadata": {},
   "source": [
    "## sintomas y fallecidos jalapa"
   ]
  },
  {
   "cell_type": "code",
   "execution_count": 129,
   "metadata": {},
   "outputs": [
    {
     "name": "stdout",
     "output_type": "stream",
     "text": [
      "El modelo tiene una presicion de: 92.21%\n"
     ]
    }
   ],
   "source": [
    "# sintomas-fallecidos\n",
    "mlsintofalle3 = smf.ols(formula = \"Sintomas~Fallecidos\", data=data3).fit()\n",
    "mlsintofalle3.params\n",
    "# validacion sintomas-fallecidos\n",
    "validasintofalle3 = mlsintofalle3.rsquared_adj\n",
    "print(\"El modelo tiene una presicion de: \" + str(round(validasintofalle3*100,2)) + \"%\")"
   ]
  },
  {
   "cell_type": "markdown",
   "metadata": {},
   "source": [
    "## muestras y fallecidos jalapa"
   ]
  },
  {
   "cell_type": "code",
   "execution_count": 130,
   "metadata": {},
   "outputs": [
    {
     "name": "stdout",
     "output_type": "stream",
     "text": [
      "El modelo tiene una presicion de: 99.05%\n"
     ]
    }
   ],
   "source": [
    "# muestras-fallecidos\n",
    "mlmuesfalle3 = smf.ols(formula = \"Muestras~Fallecidos\", data=data3).fit()\n",
    "mlmuesfalle3.params\n",
    "# validacion muestras-fallecidos\n",
    "validamuesfalle3 = mlmuesfalle3.rsquared_adj\n",
    "print(\"El modelo tiene una presicion de: \" + str(round(validamuesfalle3*100,2)) + \"%\")"
   ]
  },
  {
   "cell_type": "markdown",
   "metadata": {},
   "source": [
    "## vacunados y fallecidos jalapa"
   ]
  },
  {
   "cell_type": "code",
   "execution_count": 131,
   "metadata": {},
   "outputs": [
    {
     "name": "stdout",
     "output_type": "stream",
     "text": [
      "El modelo tiene una presicion de: 96.7%\n"
     ]
    }
   ],
   "source": [
    "# vacunados-fallecidos\n",
    "mlvacufalle3 = smf.ols(formula = \"Vacunados~Fallecidos\", data=data3).fit()\n",
    "mlvacufalle3.params\n",
    "# validacion muestras-fallecidos\n",
    "validavacufalle3 = mlvacufalle3.rsquared_adj\n",
    "print(\"El modelo tiene una presicion de: \" + str(round(validavacufalle3*100,2)) + \"%\")"
   ]
  },
  {
   "cell_type": "markdown",
   "metadata": {},
   "source": [
    "# -----Baja Verapaz-----"
   ]
  },
  {
   "cell_type": "markdown",
   "metadata": {},
   "source": [
    "## poblacion y fallecidos Baja Verapaz"
   ]
  },
  {
   "cell_type": "code",
   "execution_count": 132,
   "metadata": {},
   "outputs": [
    {
     "name": "stdout",
     "output_type": "stream",
     "text": [
      "El modelo tiene una presicion de: 12.86%\n"
     ]
    }
   ],
   "source": [
    "# población-fallecidos\n",
    "mlpoblafalle4 = smf.ols(formula = \"poblacion~Fallecidos\", data=data4).fit()\n",
    "mlpoblafalle4.params\n",
    "# validacion poblacion-fallecidos\n",
    "validapoblafalle4 = mlpoblafalle4.rsquared_adj\n",
    "print(\"El modelo tiene una presicion de: \" + str(round(validapoblafalle4*100,2)) + \"%\")"
   ]
  },
  {
   "cell_type": "markdown",
   "metadata": {},
   "source": [
    "## sintomas y fallecidos Baja Verapaz"
   ]
  },
  {
   "cell_type": "code",
   "execution_count": 133,
   "metadata": {},
   "outputs": [
    {
     "name": "stdout",
     "output_type": "stream",
     "text": [
      "El modelo tiene una presicion de: 88.95%\n"
     ]
    }
   ],
   "source": [
    "# sintomas-fallecidos\n",
    "mlsintofalle4 = smf.ols(formula = \"Sintomas~Fallecidos\", data=data4).fit()\n",
    "mlsintofalle4.params\n",
    "# validacion sintomas-fallecidos\n",
    "validasintofalle4 = mlsintofalle4.rsquared_adj\n",
    "print(\"El modelo tiene una presicion de: \" + str(round(validasintofalle4*100,2)) + \"%\")"
   ]
  },
  {
   "cell_type": "markdown",
   "metadata": {},
   "source": [
    "## muestras y fallecidos Baja Verapaz"
   ]
  },
  {
   "cell_type": "code",
   "execution_count": 134,
   "metadata": {},
   "outputs": [
    {
     "name": "stdout",
     "output_type": "stream",
     "text": [
      "El modelo tiene una presicion de: 90.73%\n"
     ]
    }
   ],
   "source": [
    "# muestras-fallecidos\n",
    "mlmuesfalle4 = smf.ols(formula = \"Muestras~Fallecidos\", data=data4).fit()\n",
    "mlmuesfalle4.params\n",
    "# validacion muestras-fallecidos\n",
    "validamuesfalle4 = mlmuesfalle4.rsquared_adj\n",
    "print(\"El modelo tiene una presicion de: \" + str(round(validamuesfalle4*100,2)) + \"%\")"
   ]
  },
  {
   "cell_type": "markdown",
   "metadata": {},
   "source": [
    "## vacunados y fallecidos Baja Verapaz"
   ]
  },
  {
   "cell_type": "code",
   "execution_count": 135,
   "metadata": {},
   "outputs": [
    {
     "name": "stdout",
     "output_type": "stream",
     "text": [
      "El modelo tiene una presicion de: 64.06%\n"
     ]
    }
   ],
   "source": [
    "# vacunados-fallecidos\n",
    "mlvacufalle4 = smf.ols(formula = \"Vacunados~Fallecidos\", data=data4).fit()\n",
    "mlvacufalle4.params\n",
    "# validacion muestras-fallecidos\n",
    "validavacufalle4 = mlvacufalle4.rsquared_adj\n",
    "print(\"El modelo tiene una presicion de: \" + str(round(validavacufalle4*100,2)) + \"%\")"
   ]
  },
  {
   "cell_type": "markdown",
   "metadata": {},
   "source": [
    "# -----Izabal-----"
   ]
  },
  {
   "cell_type": "markdown",
   "metadata": {},
   "source": [
    "## poblacion y fallecidos Izabal"
   ]
  },
  {
   "cell_type": "code",
   "execution_count": 136,
   "metadata": {},
   "outputs": [
    {
     "name": "stdout",
     "output_type": "stream",
     "text": [
      "El modelo tiene una presicion de: 54.46%\n"
     ]
    }
   ],
   "source": [
    "# población-fallecidos\n",
    "mlpoblafalle5 = smf.ols(formula = \"poblacion~Fallecidos\", data=data5).fit()\n",
    "mlpoblafalle5.params\n",
    "# validacion poblacion-fallecidos\n",
    "validapoblafalle5 = mlpoblafalle5.rsquared_adj\n",
    "print(\"El modelo tiene una presicion de: \" + str(round(validapoblafalle5*100,2)) + \"%\")"
   ]
  },
  {
   "cell_type": "markdown",
   "metadata": {},
   "source": [
    "## sintomas y fallecidos Izabal"
   ]
  },
  {
   "cell_type": "code",
   "execution_count": 137,
   "metadata": {},
   "outputs": [
    {
     "name": "stdout",
     "output_type": "stream",
     "text": [
      "El modelo tiene una presicion de: 97.35%\n"
     ]
    }
   ],
   "source": [
    "# sintomas-fallecidos\n",
    "mlsintofalle5 = smf.ols(formula = \"Sintomas~Fallecidos\", data=data5).fit()\n",
    "mlsintofalle5.params\n",
    "# validacion sintomas-fallecidos\n",
    "validasintofalle5 = mlsintofalle5.rsquared_adj\n",
    "print(\"El modelo tiene una presicion de: \" + str(round(validasintofalle5*100,2)) + \"%\")"
   ]
  },
  {
   "cell_type": "markdown",
   "metadata": {},
   "source": [
    "## muestras y fallecidos Izabal"
   ]
  },
  {
   "cell_type": "code",
   "execution_count": 138,
   "metadata": {},
   "outputs": [
    {
     "name": "stdout",
     "output_type": "stream",
     "text": [
      "El modelo tiene una presicion de: 99.3%\n"
     ]
    }
   ],
   "source": [
    "# muestras-fallecidos\n",
    "mlmuesfalle5 = smf.ols(formula = \"Muestras~Fallecidos\", data=data5).fit()\n",
    "mlmuesfalle5.params\n",
    "# validacion muestras-fallecidos\n",
    "validamuesfalle5 = mlmuesfalle5.rsquared_adj\n",
    "print(\"El modelo tiene una presicion de: \" + str(round(validamuesfalle5*100,2)) + \"%\")"
   ]
  },
  {
   "cell_type": "markdown",
   "metadata": {},
   "source": [
    "## vacunados y fallecidos Izabal"
   ]
  },
  {
   "cell_type": "code",
   "execution_count": 139,
   "metadata": {},
   "outputs": [
    {
     "name": "stdout",
     "output_type": "stream",
     "text": [
      "El modelo tiene una presicion de: 99.3%\n"
     ]
    }
   ],
   "source": [
    "# vacunados-fallecidos\n",
    "mlvacufalle5 = smf.ols(formula = \"Vacunados~Fallecidos\", data=data5).fit()\n",
    "mlvacufalle5.params\n",
    "# validacion muestras-fallecidos\n",
    "validavacufalle5 = mlvacufalle5.rsquared_adj\n",
    "print(\"El modelo tiene una presicion de: \" + str(round(validavacufalle5*100,2)) + \"%\")"
   ]
  },
  {
   "cell_type": "markdown",
   "metadata": {},
   "source": [
    "# -----Quetzaltenango-----"
   ]
  },
  {
   "cell_type": "markdown",
   "metadata": {},
   "source": [
    "## poblacion y fallecidos quetzaltenango"
   ]
  },
  {
   "cell_type": "code",
   "execution_count": 140,
   "metadata": {},
   "outputs": [
    {
     "name": "stdout",
     "output_type": "stream",
     "text": [
      "El modelo tiene una presicion de: 84.14%\n"
     ]
    }
   ],
   "source": [
    "# población-fallecidos\n",
    "mlpoblafalle6 = smf.ols(formula = \"poblacion~Fallecidos\", data=data6).fit()\n",
    "mlpoblafalle6.params\n",
    "# validacion poblacion-fallecidos\n",
    "validapoblafalle6 = mlpoblafalle6.rsquared_adj\n",
    "print(\"El modelo tiene una presicion de: \" + str(round(validapoblafalle6*100,2)) + \"%\")"
   ]
  },
  {
   "cell_type": "markdown",
   "metadata": {},
   "source": [
    "## sintomas y fallecidos quetzaltenango"
   ]
  },
  {
   "cell_type": "code",
   "execution_count": 141,
   "metadata": {},
   "outputs": [
    {
     "name": "stdout",
     "output_type": "stream",
     "text": [
      "El modelo tiene una presicion de: 94.72%\n"
     ]
    }
   ],
   "source": [
    "# sintomas-fallecidos\n",
    "mlsintofalle6 = smf.ols(formula = \"Sintomas~Fallecidos\", data=data6).fit()\n",
    "mlsintofalle6.params\n",
    "# validacion sintomas-fallecidos\n",
    "validasintofalle6 = mlsintofalle6.rsquared_adj\n",
    "print(\"El modelo tiene una presicion de: \" + str(round(validasintofalle6*100,2)) + \"%\")"
   ]
  },
  {
   "cell_type": "markdown",
   "metadata": {},
   "source": [
    "## muestras y fallecidos quetzaltenango"
   ]
  },
  {
   "cell_type": "code",
   "execution_count": 142,
   "metadata": {},
   "outputs": [
    {
     "name": "stdout",
     "output_type": "stream",
     "text": [
      "El modelo tiene una presicion de: 99.32%\n"
     ]
    }
   ],
   "source": [
    "# muestras-fallecidos\n",
    "mlmuesfalle6 = smf.ols(formula = \"Muestras~Fallecidos\", data=data6).fit()\n",
    "mlmuesfalle6.params\n",
    "# validacion muestras-fallecidos\n",
    "validamuesfalle6 = mlmuesfalle6.rsquared_adj\n",
    "print(\"El modelo tiene una presicion de: \" + str(round(validamuesfalle6*100,2)) + \"%\")"
   ]
  },
  {
   "cell_type": "markdown",
   "metadata": {},
   "source": [
    "## vacunados y fallecidos quetzaltenango"
   ]
  },
  {
   "cell_type": "code",
   "execution_count": 143,
   "metadata": {},
   "outputs": [
    {
     "name": "stdout",
     "output_type": "stream",
     "text": [
      "El modelo tiene una presicion de: 98.46%\n"
     ]
    }
   ],
   "source": [
    "# vacunados-fallecidos\n",
    "mlvacufalle6 = smf.ols(formula = \"Vacunados~Fallecidos\", data=data6).fit()\n",
    "mlvacufalle6.params\n",
    "# validacion muestras-fallecidos\n",
    "validavacufalle6 = mlvacufalle6.rsquared_adj\n",
    "print(\"El modelo tiene una presicion de: \" + str(round(validavacufalle6*100,2)) + \"%\")"
   ]
  },
  {
   "cell_type": "markdown",
   "metadata": {},
   "source": [
    "# -----Alta Verapaz-----"
   ]
  },
  {
   "cell_type": "markdown",
   "metadata": {},
   "source": [
    "## poblacion y fallecidos Alta Verapaz"
   ]
  },
  {
   "cell_type": "code",
   "execution_count": 144,
   "metadata": {},
   "outputs": [
    {
     "name": "stdout",
     "output_type": "stream",
     "text": [
      "El modelo tiene una presicion de: 56.62%\n"
     ]
    }
   ],
   "source": [
    "# población-fallecidos\n",
    "mlpoblafalle7 = smf.ols(formula = \"poblacion~Fallecidos\", data=data7).fit()\n",
    "mlpoblafalle7.params\n",
    "# validacion poblacion-fallecidos\n",
    "validapoblafalle7 = mlpoblafalle7.rsquared_adj\n",
    "print(\"El modelo tiene una presicion de: \" + str(round(validapoblafalle7*100,2)) + \"%\")"
   ]
  },
  {
   "cell_type": "markdown",
   "metadata": {},
   "source": [
    "## sintomas y fallecidos alta verapaz"
   ]
  },
  {
   "cell_type": "code",
   "execution_count": 145,
   "metadata": {},
   "outputs": [
    {
     "name": "stdout",
     "output_type": "stream",
     "text": [
      "El modelo tiene una presicion de: 93.29%\n"
     ]
    }
   ],
   "source": [
    "# sintomas-fallecidos\n",
    "mlsintofalle7 = smf.ols(formula = \"Sintomas~Fallecidos\", data=data7).fit()\n",
    "mlsintofalle7.params\n",
    "# validacion sintomas-fallecidos\n",
    "validasintofalle7 = mlsintofalle7.rsquared_adj\n",
    "print(\"El modelo tiene una presicion de: \" + str(round(validasintofalle7*100,2)) + \"%\")"
   ]
  },
  {
   "cell_type": "markdown",
   "metadata": {},
   "source": [
    "## muestras y fallecidos alta verapaz"
   ]
  },
  {
   "cell_type": "code",
   "execution_count": 146,
   "metadata": {},
   "outputs": [
    {
     "name": "stdout",
     "output_type": "stream",
     "text": [
      "El modelo tiene una presicion de: 93.64%\n"
     ]
    }
   ],
   "source": [
    "# muestras-fallecidos\n",
    "mlmuesfalle7 = smf.ols(formula = \"Muestras~Fallecidos\", data=data7).fit()\n",
    "mlmuesfalle7.params\n",
    "# validacion muestras-fallecidos\n",
    "validamuesfalle7 = mlmuesfalle7.rsquared_adj\n",
    "print(\"El modelo tiene una presicion de: \" + str(round(validamuesfalle7*100,2)) + \"%\")"
   ]
  },
  {
   "cell_type": "markdown",
   "metadata": {},
   "source": [
    "## vacunados y fallecidos alta verapaz"
   ]
  },
  {
   "cell_type": "code",
   "execution_count": 147,
   "metadata": {},
   "outputs": [
    {
     "name": "stdout",
     "output_type": "stream",
     "text": [
      "El modelo tiene una presicion de: 90.02%\n"
     ]
    }
   ],
   "source": [
    "# vacunados-fallecidos\n",
    "mlvacufalle7 = smf.ols(formula = \"Vacunados~Fallecidos\", data=data7).fit()\n",
    "mlvacufalle7.params\n",
    "# validacion muestras-fallecidos\n",
    "validavacufalle7 = mlvacufalle7.rsquared_adj\n",
    "print(\"El modelo tiene una presicion de: \" + str(round(validavacufalle7*100,2)) + \"%\")"
   ]
  },
  {
   "cell_type": "markdown",
   "metadata": {},
   "source": [
    "# -----San Marcos-----"
   ]
  },
  {
   "cell_type": "markdown",
   "metadata": {},
   "source": [
    "## poblacion y fallecidos San Marcos"
   ]
  },
  {
   "cell_type": "code",
   "execution_count": 148,
   "metadata": {},
   "outputs": [
    {
     "name": "stdout",
     "output_type": "stream",
     "text": [
      "El modelo tiene una presicion de: 23.6%\n"
     ]
    }
   ],
   "source": [
    "# población-fallecidos\n",
    "mlpoblafalle8 = smf.ols(formula = \"poblacion~Fallecidos\", data=data8).fit()\n",
    "mlpoblafalle8.params\n",
    "# validacion poblacion-fallecidos\n",
    "validapoblafalle8 = mlpoblafalle8.rsquared_adj\n",
    "print(\"El modelo tiene una presicion de: \" + str(round(validapoblafalle8*100,2)) + \"%\")"
   ]
  },
  {
   "cell_type": "markdown",
   "metadata": {},
   "source": [
    "## sintomas y fallecidos san marcos"
   ]
  },
  {
   "cell_type": "code",
   "execution_count": 149,
   "metadata": {},
   "outputs": [
    {
     "name": "stdout",
     "output_type": "stream",
     "text": [
      "El modelo tiene una presicion de: 87.17%\n"
     ]
    }
   ],
   "source": [
    "# sintomas-fallecidos\n",
    "mlsintofalle8 = smf.ols(formula = \"Sintomas~Fallecidos\", data=data8).fit()\n",
    "mlsintofalle8.params\n",
    "# validacion sintomas-fallecidos\n",
    "validasintofalle8 = mlsintofalle8.rsquared_adj\n",
    "print(\"El modelo tiene una presicion de: \" + str(round(validasintofalle8*100,2)) + \"%\")"
   ]
  },
  {
   "cell_type": "markdown",
   "metadata": {},
   "source": [
    "## muestras y fallecidos san marcos"
   ]
  },
  {
   "cell_type": "code",
   "execution_count": 150,
   "metadata": {},
   "outputs": [
    {
     "name": "stdout",
     "output_type": "stream",
     "text": [
      "El modelo tiene una presicion de: 80.76%\n"
     ]
    }
   ],
   "source": [
    "# muestras-fallecidos\n",
    "mlmuesfalle8 = smf.ols(formula = \"Muestras~Fallecidos\", data=data8).fit()\n",
    "mlmuesfalle8.params\n",
    "# validacion muestras-fallecidos\n",
    "validamuesfalle8 = mlmuesfalle8.rsquared_adj\n",
    "print(\"El modelo tiene una presicion de: \" + str(round(validamuesfalle8*100,2)) + \"%\")"
   ]
  },
  {
   "cell_type": "markdown",
   "metadata": {},
   "source": [
    "## vacunados y fallecidos san marcos"
   ]
  },
  {
   "cell_type": "code",
   "execution_count": 151,
   "metadata": {},
   "outputs": [
    {
     "name": "stdout",
     "output_type": "stream",
     "text": [
      "El modelo tiene una presicion de: 69.68%\n"
     ]
    }
   ],
   "source": [
    "# vacunados-fallecidos\n",
    "mlvacufalle8 = smf.ols(formula = \"Vacunados~Fallecidos\", data=data8).fit()\n",
    "mlvacufalle8.params\n",
    "# validacion muestras-fallecidos\n",
    "validavacufalle8 = mlvacufalle8.rsquared_adj\n",
    "print(\"El modelo tiene una presicion de: \" + str(round(validavacufalle8*100,2)) + \"%\")"
   ]
  },
  {
   "cell_type": "markdown",
   "metadata": {},
   "source": [
    "# -----Guatemala-----"
   ]
  },
  {
   "cell_type": "markdown",
   "metadata": {},
   "source": [
    "## poblacion y fallecidos Guatemala"
   ]
  },
  {
   "cell_type": "code",
   "execution_count": 152,
   "metadata": {},
   "outputs": [
    {
     "name": "stdout",
     "output_type": "stream",
     "text": [
      "El modelo tiene una presicion de: 94.23%\n"
     ]
    }
   ],
   "source": [
    "# población-fallecidos\n",
    "mlpoblafalle9 = smf.ols(formula = \"poblacion~Fallecidos\", data=data9).fit()\n",
    "mlpoblafalle9.params\n",
    "# validacion poblacion-fallecidos\n",
    "validapoblafalle9 = mlpoblafalle9.rsquared_adj\n",
    "print(\"El modelo tiene una presicion de: \" + str(round(validapoblafalle9*100,2)) + \"%\")"
   ]
  },
  {
   "cell_type": "markdown",
   "metadata": {},
   "source": [
    "## sintomas y fallecidos Guatemala"
   ]
  },
  {
   "cell_type": "code",
   "execution_count": 153,
   "metadata": {},
   "outputs": [
    {
     "name": "stdout",
     "output_type": "stream",
     "text": [
      "El modelo tiene una presicion de: 98.78%\n"
     ]
    }
   ],
   "source": [
    "# sintomas-fallecidos\n",
    "mlsintofalle9 = smf.ols(formula = \"Sintomas~Fallecidos\", data=data9).fit()\n",
    "mlsintofalle9.params\n",
    "# validacion sintomas-fallecidos\n",
    "validasintofalle9 = mlsintofalle9.rsquared_adj\n",
    "print(\"El modelo tiene una presicion de: \" + str(round(validasintofalle9*100,2)) + \"%\")"
   ]
  },
  {
   "cell_type": "markdown",
   "metadata": {},
   "source": [
    "## muestras y fallecidos Guatemala"
   ]
  },
  {
   "cell_type": "code",
   "execution_count": 154,
   "metadata": {},
   "outputs": [
    {
     "name": "stdout",
     "output_type": "stream",
     "text": [
      "El modelo tiene una presicion de: 99.72%\n"
     ]
    }
   ],
   "source": [
    "# muestras-fallecidos\n",
    "mlmuesfalle9 = smf.ols(formula = \"Muestras~Fallecidos\", data=data9).fit()\n",
    "mlmuesfalle9.params\n",
    "# validacion muestras-fallecidos\n",
    "validamuesfalle9 = mlmuesfalle9.rsquared_adj\n",
    "print(\"El modelo tiene una presicion de: \" + str(round(validamuesfalle9*100,2)) + \"%\")"
   ]
  },
  {
   "cell_type": "markdown",
   "metadata": {},
   "source": [
    "## vacunados y fallecidos Guatemala"
   ]
  },
  {
   "cell_type": "code",
   "execution_count": 155,
   "metadata": {},
   "outputs": [
    {
     "name": "stdout",
     "output_type": "stream",
     "text": [
      "El modelo tiene una presicion de: 99.26%\n"
     ]
    }
   ],
   "source": [
    "# vacunados-fallecidos\n",
    "mlvacufalle9 = smf.ols(formula = \"Vacunados~Fallecidos\", data=data9).fit()\n",
    "mlvacufalle9.params\n",
    "# validacion muestras-fallecidos\n",
    "validavacufalle9 = mlvacufalle9.rsquared_adj\n",
    "print(\"El modelo tiene una presicion de: \" + str(round(validavacufalle9*100,2)) + \"%\")"
   ]
  },
  {
   "cell_type": "markdown",
   "metadata": {},
   "source": [
    "# -----Petén-----"
   ]
  },
  {
   "cell_type": "markdown",
   "metadata": {},
   "source": [
    "## poblacion y fallecidos Péten"
   ]
  },
  {
   "cell_type": "code",
   "execution_count": 156,
   "metadata": {},
   "outputs": [
    {
     "name": "stdout",
     "output_type": "stream",
     "text": [
      "El modelo tiene una presicion de: 20.72%\n"
     ]
    }
   ],
   "source": [
    "# población-fallecidos\n",
    "mlpoblafalle10 = smf.ols(formula = \"poblacion~Fallecidos\", data=data10).fit()\n",
    "mlpoblafalle10.params\n",
    "# validacion poblacion-fallecidos\n",
    "validapoblafalle10 = mlpoblafalle10.rsquared_adj\n",
    "print(\"El modelo tiene una presicion de: \" + str(round(validapoblafalle10*100,2)) + \"%\")"
   ]
  },
  {
   "cell_type": "markdown",
   "metadata": {},
   "source": [
    "## sintomas y fallecidos Péten"
   ]
  },
  {
   "cell_type": "code",
   "execution_count": 157,
   "metadata": {},
   "outputs": [
    {
     "name": "stdout",
     "output_type": "stream",
     "text": [
      "El modelo tiene una presicion de: 75.54%\n"
     ]
    }
   ],
   "source": [
    "# sintomas-fallecidos\n",
    "mlsintofalle10 = smf.ols(formula = \"Sintomas~Fallecidos\", data=data10).fit()\n",
    "mlsintofalle10.params\n",
    "# validacion sintomas-fallecidos\n",
    "validasintofalle10 = mlsintofalle10.rsquared_adj\n",
    "print(\"El modelo tiene una presicion de: \" + str(round(validasintofalle10*100,2)) + \"%\")"
   ]
  },
  {
   "cell_type": "markdown",
   "metadata": {},
   "source": [
    "## muestras y fallecidos Péten"
   ]
  },
  {
   "cell_type": "code",
   "execution_count": 158,
   "metadata": {},
   "outputs": [
    {
     "name": "stdout",
     "output_type": "stream",
     "text": [
      "El modelo tiene una presicion de: 74.83%\n"
     ]
    }
   ],
   "source": [
    "# muestras-fallecidos\n",
    "mlmuesfalle10 = smf.ols(formula = \"Muestras~Fallecidos\", data=data10).fit()\n",
    "mlmuesfalle10.params\n",
    "# validacion muestras-fallecidos\n",
    "validamuesfalle10 = mlmuesfalle10.rsquared_adj\n",
    "print(\"El modelo tiene una presicion de: \" + str(round(validamuesfalle10*100,2)) + \"%\")"
   ]
  },
  {
   "cell_type": "markdown",
   "metadata": {},
   "source": [
    "## vacunados y fallecidos Péten"
   ]
  },
  {
   "cell_type": "code",
   "execution_count": 159,
   "metadata": {},
   "outputs": [
    {
     "name": "stdout",
     "output_type": "stream",
     "text": [
      "El modelo tiene una presicion de: 51.74%\n"
     ]
    }
   ],
   "source": [
    "# vacunados-fallecidos\n",
    "mlvacufalle10 = smf.ols(formula = \"Vacunados~Fallecidos\", data=data10).fit()\n",
    "mlvacufalle10.params\n",
    "# validacion muestras-fallecidos\n",
    "validavacufalle10 = mlvacufalle10.rsquared_adj\n",
    "print(\"El modelo tiene una presicion de: \" + str(round(validavacufalle10*100,2)) + \"%\")"
   ]
  }
 ],
 "metadata": {
  "kernelspec": {
   "display_name": "Python 3",
   "language": "python",
   "name": "python3"
  },
  "language_info": {
   "codemirror_mode": {
    "name": "ipython",
    "version": 3
   },
   "file_extension": ".py",
   "mimetype": "text/x-python",
   "name": "python",
   "nbconvert_exporter": "python",
   "pygments_lexer": "ipython3",
   "version": "3.8.8"
  }
 },
 "nbformat": 4,
 "nbformat_minor": 4
}
